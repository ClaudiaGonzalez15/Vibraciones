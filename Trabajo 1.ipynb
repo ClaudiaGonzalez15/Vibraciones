{
 "cells": [
  {
   "cell_type": "markdown",
   "metadata": {},
   "source": [
    "<h1 style=\"text-align:center\">TRABAJO 1</h1>\n",
    "<h4 style=\"text-align:center\">ACUS262: Aislamiento y Análisis de Vibraciones</h4>\n",
    "<h5 style=\"text-align:center\">Estudiantes:</h5>\n",
    "<p style=\"text-align:center \">Claudia González Manzano</p> \n",
    "<p style=\"text-align:center\">Richard Povea Ibáñez </p>\n",
    "<h5 style=\"text-align:center\">Profesor:</h5>\n",
    "<p style=\"text-align:center\">Dr. Ing. Víctor Poblete Ramírez</p> \n",
    "<h5 style=\"text-align:center\">Fecha:</h5>\n",
    "<p style='text-align:center;'> 15 de Mayo de 2020 </p>"
   ]
  },
  {
   "cell_type": "markdown",
   "metadata": {},
   "source": [
    "### Ejercicio:\n",
    "###### Example 1.6\n",
    "<p style='text-align: justify;'> A uniform rigid bar of total mass $m$ and lenght $L_{2}$, suspended at point $O$ by a string of length $L_{1}$, is acted upon by the horizontal force $F$, as shown in Fig 1.10a. Use the angular displacements $\\theta_{1}$ and $\\theta_{2}$ to define the position, velocity and acceleration of the mass center $C$ in terms of body axes and then derive the equations of motion for the translation of $C$ and the rotation about $C$ </p>"
   ]
  },
  {
   "cell_type": "markdown",
   "metadata": {},
   "source": [
    "<!--- Inline HTML works too --->\n",
    "<p style=\"text-align:center\">\n",
    "    <a title=\"Figura 1.10\"><img src=\"Figure 1.10.png\" width=\"400\" height=\"400\" alt=\"Tiny\"></a>\n",
    "    <strong>Figura 1. Figure 1.10 del texto <em>\"Fundamental of Vibration\"</em> de Leonard Meirovitch </strong>"
   ]
  },
  {
   "cell_type": "markdown",
   "metadata": {},
   "source": [
    "### Desarrollo:\n",
    "<p style='text-align: justify;'> Este sistema está compuesto por dos sistemas individuales con movimientos diferentes, el péndulo y la barra, por lo cual es necesario definir dos sistemas de ejes axiales: </p>\n",
    "<ul> - Ejes $r_{1}$ y $\\theta_{1}$ para el péndulo. </ul>\n",
    "<ul> - Ejes $r_{2}$ y $\\theta_{2}$ para la barra. </ul>\n",
    "<p style='text-align: justify;'> Estos ejes también definen los vectores unitarios: </p>\n",
    "<ul> -  $u_{r_{1}}$ y $u_{\\theta_{1}}$ para el péndulo. </ul>\n",
    "<ul> -  $u_{r_{2}}$ y $u_{\\theta_{2}}$ para la barra. </ul>\n",
    "<p style='text-align: justify;'>  Para definir la posición con respecto a $C$, se observa la figura representativa del movimiento de la barra donde la posición $r_{C}$ será la suma de $r_{A}$ y $r_{AC}$. También se observa que $r_{A}$ corresponde a $L_{1}$ en dirección $r_{1}$, y que $r_{AC}$ corresponde a la mitad de $L_{2}$ en dirección $r_{2}$. </p>\n",
    "<p style='text-align: justify;'>  Por lo tanto, del análisis anterior, queda la posición $r_{C}$ como: </p>\n",
    "\\begin{align}\n",
    "r_{C}= L_{1} u_{r_{1}} + \\frac{L_{2}}{2} u_{r_{2}}\n",
    "\\label{eq1}\\tag{1}\n",
    "\\end{align} \n",
    "<p style='text-align: justify;'> Para encontrar la velocidad con respecto a $C$, se tiene que $v_{C}$ es la derivada de $r_{C}$."
   ]
  },
  {
   "cell_type": "markdown",
   "metadata": {},
   "source": [
    "\n",
    "<!--- Inline HTML works too --->\n",
    "<p style=\"text-align:center\">\n",
    "    <a title=\"Figura 1.10\"><img src=\"pruebita.gif\" width=\"300\" height=\"300\" alt=\"Tiny\"></a>\n",
    "    <strong>Figura 1. Figure 1.10 del texto <em>\"Fundamental of Vibration\"</em> de Leonard Meirovitch </strong>"
   ]
  },
  {
   "cell_type": "code",
   "execution_count": null,
   "metadata": {},
   "outputs": [],
   "source": []
  }
 ],
 "metadata": {
  "kernelspec": {
   "display_name": "Python 3",
   "language": "python",
   "name": "python3"
  },
  "language_info": {
   "codemirror_mode": {
    "name": "ipython",
    "version": 3
   },
   "file_extension": ".py",
   "mimetype": "text/x-python",
   "name": "python",
   "nbconvert_exporter": "python",
   "pygments_lexer": "ipython3",
   "version": "3.8.2"
  }
 },
 "nbformat": 4,
 "nbformat_minor": 4
}
